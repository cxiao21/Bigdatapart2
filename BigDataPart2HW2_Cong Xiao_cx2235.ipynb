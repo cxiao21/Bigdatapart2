{
 "cells": [
  {
   "cell_type": "markdown",
   "metadata": {},
   "source": [
    "# Big Data in Finance: Part II <BR><BR> Homework 2 Cong Xiao_cx2235"
   ]
  },
  {
   "cell_type": "markdown",
   "metadata": {},
   "source": [
    "## 1. Download Data"
   ]
  },
  {
   "cell_type": "markdown",
   "metadata": {},
   "source": [
    "### Answer: Both two files: \"stock_monthly.py\" and \"stock_annual.py\" are uploaded within the same zip file.  I can run them without problems."
   ]
  },
  {
   "cell_type": "markdown",
   "metadata": {},
   "source": [
    "## 2. Calculate past 11-1 returns"
   ]
  },
  {
   "cell_type": "markdown",
   "metadata": {},
   "source": [
    "### Answer: This part is finished in \"stock_monthly.py\" by the function \"calculalte_cumulative_return\""
   ]
  },
  {
   "cell_type": "markdown",
   "metadata": {},
   "source": [
    "## 3. Portfolios Sorts\n",
    "\n",
    "### Answer: This part is finished in \"portfolio_sorts_CongXiao.py\""
   ]
  },
  {
   "cell_type": "markdown",
   "metadata": {},
   "source": [
    "## Questions\n",
    "----\n",
    "\n",
    "__***Stock Monthly Questions***__\n",
    "\n",
    "**Question 1 (20 pts)**\n",
    "\n",
    "Report here number of missings, number of unique permnos and (average, min, max) ret_11_1 for December 2019."
   ]
  },
  {
   "cell_type": "code",
   "execution_count": 3,
   "metadata": {},
   "outputs": [],
   "source": [
    "%load_ext autoreload\n",
    "%autoreload 2\n",
    "#useful_packages\n",
    "import pandas as pd\n",
    "import numpy as np\n",
    "import pickle"
   ]
  },
  {
   "cell_type": "code",
   "execution_count": 13,
   "metadata": {},
   "outputs": [
    {
     "name": "stdout",
     "output_type": "stream",
     "text": [
      "number of missing: 536\n"
     ]
    }
   ],
   "source": [
    "with open(\"C:\\\\1notes\\\\Spring 2020\\\\Big data\\\\Part2HW\\\\HW2stock_monthly.pkl\",\"rb\") as f:\n",
    "    data=pickle.load(f,encoding='utf-8')\n",
    "#data=pickle.load(open(\"C:\\\\1notes\\\\Spring 2020\\\\Big data\\\\Part2HW\\\\HW2stock_monthly.pkl\",encoding='utf-8'))\n",
    "data['year'] = pd.DatetimeIndex(data['date']).year\n",
    "data['month'] = pd.DatetimeIndex(data['date']).month\n",
    "data2019Dec=data[(data.year==2019) & (data.month==12)]\n",
    "print(\"number of missing:\",data2019Dec['ret_11_1'].isnull().sum())"
   ]
  },
  {
   "cell_type": "code",
   "execution_count": 15,
   "metadata": {},
   "outputs": [
    {
     "name": "stdout",
     "output_type": "stream",
     "text": [
      "number of unique permnos 7595\n"
     ]
    }
   ],
   "source": [
    "print(\"number of unique permnos\",data2019Dec.permno.nunique())"
   ]
  },
  {
   "cell_type": "code",
   "execution_count": 16,
   "metadata": {},
   "outputs": [
    {
     "name": "stdout",
     "output_type": "stream",
     "text": [
      "average,min,max of ret_11_1: 0.16460373844785944 -0.9994244707713349 12.960992730639935\n"
     ]
    }
   ],
   "source": [
    "print(\"average,min,max of ret_11_1:\",np.mean(data2019Dec.ret_11_1),np.min(data2019Dec.ret_11_1),np.max(data2019Dec.ret_11_1))"
   ]
  },
  {
   "cell_type": "markdown",
   "metadata": {},
   "source": [
    "**Question 2 (10 pts)**\n",
    "\n",
    "List the top 10 firms that had the highest 11-months performance returns as December 2019."
   ]
  },
  {
   "cell_type": "code",
   "execution_count": 23,
   "metadata": {},
   "outputs": [
    {
     "data": {
      "text/html": [
       "<div>\n",
       "<style scoped>\n",
       "    .dataframe tbody tr th:only-of-type {\n",
       "        vertical-align: middle;\n",
       "    }\n",
       "\n",
       "    .dataframe tbody tr th {\n",
       "        vertical-align: top;\n",
       "    }\n",
       "\n",
       "    .dataframe thead th {\n",
       "        text-align: right;\n",
       "    }\n",
       "</style>\n",
       "<table border=\"1\" class=\"dataframe\">\n",
       "  <thead>\n",
       "    <tr style=\"text-align: right;\">\n",
       "      <th></th>\n",
       "      <th>ticker</th>\n",
       "      <th>ret_11_1</th>\n",
       "    </tr>\n",
       "  </thead>\n",
       "  <tbody>\n",
       "    <tr>\n",
       "      <th>0</th>\n",
       "      <td>AXSM</td>\n",
       "      <td>12.960993</td>\n",
       "    </tr>\n",
       "    <tr>\n",
       "      <th>1</th>\n",
       "      <td>CNST</td>\n",
       "      <td>10.610972</td>\n",
       "    </tr>\n",
       "    <tr>\n",
       "      <th>2</th>\n",
       "      <td>EVER</td>\n",
       "      <td>7.423445</td>\n",
       "    </tr>\n",
       "    <tr>\n",
       "      <th>3</th>\n",
       "      <td>SSI</td>\n",
       "      <td>5.486487</td>\n",
       "    </tr>\n",
       "    <tr>\n",
       "      <th>4</th>\n",
       "      <td>ARWR</td>\n",
       "      <td>4.878422</td>\n",
       "    </tr>\n",
       "    <tr>\n",
       "      <th>5</th>\n",
       "      <td>PRVB</td>\n",
       "      <td>4.627119</td>\n",
       "    </tr>\n",
       "    <tr>\n",
       "      <th>6</th>\n",
       "      <td>HEBT</td>\n",
       "      <td>4.464417</td>\n",
       "    </tr>\n",
       "    <tr>\n",
       "      <th>7</th>\n",
       "      <td>ROKU</td>\n",
       "      <td>4.234008</td>\n",
       "    </tr>\n",
       "    <tr>\n",
       "      <th>8</th>\n",
       "      <td>WKHS</td>\n",
       "      <td>4.208334</td>\n",
       "    </tr>\n",
       "    <tr>\n",
       "      <th>9</th>\n",
       "      <td>CFMS</td>\n",
       "      <td>4.195531</td>\n",
       "    </tr>\n",
       "  </tbody>\n",
       "</table>\n",
       "</div>"
      ],
      "text/plain": [
       "  ticker   ret_11_1\n",
       "0   AXSM  12.960993\n",
       "1   CNST  10.610972\n",
       "2   EVER   7.423445\n",
       "3    SSI   5.486487\n",
       "4   ARWR   4.878422\n",
       "5   PRVB   4.627119\n",
       "6   HEBT   4.464417\n",
       "7   ROKU   4.234008\n",
       "8   WKHS   4.208334\n",
       "9   CFMS   4.195531"
      ]
     },
     "execution_count": 23,
     "metadata": {},
     "output_type": "execute_result"
    }
   ],
   "source": [
    "a=data2019Dec.sort_values('ret_11_1',ascending=False)[['ticker','ret_11_1']].head(10)\n",
    "a.reset_index(inplace=True,drop=True)\n",
    "a"
   ]
  },
  {
   "cell_type": "markdown",
   "metadata": {},
   "source": [
    "**Question 3 (10 pts)**\n",
    "\n",
    "List the top 10 firms that had the lowest 11-months performance returns as December 2019."
   ]
  },
  {
   "cell_type": "code",
   "execution_count": 24,
   "metadata": {},
   "outputs": [
    {
     "data": {
      "text/html": [
       "<div>\n",
       "<style scoped>\n",
       "    .dataframe tbody tr th:only-of-type {\n",
       "        vertical-align: middle;\n",
       "    }\n",
       "\n",
       "    .dataframe tbody tr th {\n",
       "        vertical-align: top;\n",
       "    }\n",
       "\n",
       "    .dataframe thead th {\n",
       "        text-align: right;\n",
       "    }\n",
       "</style>\n",
       "<table border=\"1\" class=\"dataframe\">\n",
       "  <thead>\n",
       "    <tr style=\"text-align: right;\">\n",
       "      <th></th>\n",
       "      <th>ticker</th>\n",
       "      <th>ret_11_1</th>\n",
       "    </tr>\n",
       "  </thead>\n",
       "  <tbody>\n",
       "    <tr>\n",
       "      <th>0</th>\n",
       "      <td>CEI</td>\n",
       "      <td>-0.999424</td>\n",
       "    </tr>\n",
       "    <tr>\n",
       "      <th>1</th>\n",
       "      <td>VIVE</td>\n",
       "      <td>-0.991961</td>\n",
       "    </tr>\n",
       "    <tr>\n",
       "      <th>2</th>\n",
       "      <td>DPW</td>\n",
       "      <td>-0.988659</td>\n",
       "    </tr>\n",
       "    <tr>\n",
       "      <th>3</th>\n",
       "      <td>INPX</td>\n",
       "      <td>-0.986897</td>\n",
       "    </tr>\n",
       "    <tr>\n",
       "      <th>4</th>\n",
       "      <td>MTFB</td>\n",
       "      <td>-0.985842</td>\n",
       "    </tr>\n",
       "    <tr>\n",
       "      <th>5</th>\n",
       "      <td>WTRH</td>\n",
       "      <td>-0.965919</td>\n",
       "    </tr>\n",
       "    <tr>\n",
       "      <th>6</th>\n",
       "      <td>JAGX</td>\n",
       "      <td>-0.961913</td>\n",
       "    </tr>\n",
       "    <tr>\n",
       "      <th>7</th>\n",
       "      <td>NAKD</td>\n",
       "      <td>-0.960798</td>\n",
       "    </tr>\n",
       "    <tr>\n",
       "      <th>8</th>\n",
       "      <td>OPGN</td>\n",
       "      <td>-0.953462</td>\n",
       "    </tr>\n",
       "    <tr>\n",
       "      <th>9</th>\n",
       "      <td>TOPS</td>\n",
       "      <td>-0.953426</td>\n",
       "    </tr>\n",
       "  </tbody>\n",
       "</table>\n",
       "</div>"
      ],
      "text/plain": [
       "  ticker  ret_11_1\n",
       "0    CEI -0.999424\n",
       "1   VIVE -0.991961\n",
       "2    DPW -0.988659\n",
       "3   INPX -0.986897\n",
       "4   MTFB -0.985842\n",
       "5   WTRH -0.965919\n",
       "6   JAGX -0.961913\n",
       "7   NAKD -0.960798\n",
       "8   OPGN -0.953462\n",
       "9   TOPS -0.953426"
      ]
     },
     "execution_count": 24,
     "metadata": {},
     "output_type": "execute_result"
    }
   ],
   "source": [
    "a=data2019Dec.sort_values('ret_11_1',ascending=True)[['ticker','ret_11_1']].head(10)\n",
    "a.reset_index(inplace=True,drop=True)\n",
    "a"
   ]
  },
  {
   "cell_type": "markdown",
   "metadata": {},
   "source": [
    "__***Stock Annual Questions***__\n",
    "\n",
    "**Question 4 (30 pts)**\n",
    "\n",
    "There is a large literature about the value premium. The value premium is the observation that value stocks (stocks with high BEME values) on average outperform growth stocks (stocks with low BEME values). Cohen, Polk and Vuolteenaho (2003) show that the expected return on value-minus-growth strategies is typically high at times when their spread in BEME ratios is wide. The spread in BEME ratios of value and growth stocks is known as the \"value spread\".\n",
    "* Calculate a time series of the value spread between the value stocks (top BEME bucket) and the growth stocks (bottom BEME bucket). The BEME value of each bucket should be calculated as the log of ratio of the sum of BE of all stocks in the bucket and the sum of ME of all stocks in the bucket.\n",
    "* Report a time series plot of the value spread.\n",
    "* Based on your plot, what is your best guess for the performance of value-minus-growth strategies in the last 10 years?"
   ]
  },
  {
   "cell_type": "code",
   "execution_count": 29,
   "metadata": {},
   "outputs": [],
   "source": [
    "import pandas as pd\n",
    "beme=pd.read_csv(\"C:\\\\1notes\\\\Spring 2020\\\\Big data\\\\Part2HW\\\\beme_sorts\")\n",
    "opbe=pd.read_csv(\"C:\\\\1notes\\\\Spring 2020\\\\Big data\\\\Part2HW\\\\opbe_sorts\")\n",
    "inv=pd.read_csv(\"C:\\\\1notes\\\\Spring 2020\\\\Big data\\\\Part2HW\\\\inv_sorts\")\n",
    "with open(\"C:\\\\1notes\\\\Spring 2020\\\\Big data\\\\Part2HW\\\\HW2stock_annual.pkl\",\"rb\") as f:\n",
    "    annualdata=pickle.load(f,encoding='utf-8')"
   ]
  },
  {
   "cell_type": "code",
   "execution_count": 41,
   "metadata": {},
   "outputs": [
    {
     "data": {
      "text/html": [
       "<div>\n",
       "<style scoped>\n",
       "    .dataframe tbody tr th:only-of-type {\n",
       "        vertical-align: middle;\n",
       "    }\n",
       "\n",
       "    .dataframe tbody tr th {\n",
       "        vertical-align: top;\n",
       "    }\n",
       "\n",
       "    .dataframe thead th {\n",
       "        text-align: right;\n",
       "    }\n",
       "</style>\n",
       "<table border=\"1\" class=\"dataframe\">\n",
       "  <thead>\n",
       "    <tr style=\"text-align: right;\">\n",
       "      <th></th>\n",
       "      <th>gvkey</th>\n",
       "      <th>datadate</th>\n",
       "      <th>conm</th>\n",
       "      <th>fyear</th>\n",
       "      <th>fyr</th>\n",
       "      <th>at</th>\n",
       "      <th>capx</th>\n",
       "      <th>ceq</th>\n",
       "      <th>cogs</th>\n",
       "      <th>dlc</th>\n",
       "      <th>...</th>\n",
       "      <th>mejune</th>\n",
       "      <th>exchcd</th>\n",
       "      <th>shrcd</th>\n",
       "      <th>ticker</th>\n",
       "      <th>siccd</th>\n",
       "      <th>me</th>\n",
       "      <th>medec</th>\n",
       "      <th>mesum_dec</th>\n",
       "      <th>beme</th>\n",
       "      <th>sich_filled</th>\n",
       "    </tr>\n",
       "  </thead>\n",
       "  <tbody>\n",
       "    <tr>\n",
       "      <th>0</th>\n",
       "      <td>NaN</td>\n",
       "      <td>NaT</td>\n",
       "      <td>NaN</td>\n",
       "      <td>NaN</td>\n",
       "      <td>NaN</td>\n",
       "      <td>NaN</td>\n",
       "      <td>NaN</td>\n",
       "      <td>NaN</td>\n",
       "      <td>NaN</td>\n",
       "      <td>NaN</td>\n",
       "      <td>...</td>\n",
       "      <td>11734.59375</td>\n",
       "      <td>3.0</td>\n",
       "      <td>10.0</td>\n",
       "      <td>OMFGA</td>\n",
       "      <td>3990.0</td>\n",
       "      <td>NaN</td>\n",
       "      <td>NaN</td>\n",
       "      <td>NaN</td>\n",
       "      <td>NaN</td>\n",
       "      <td>3990.0</td>\n",
       "    </tr>\n",
       "    <tr>\n",
       "      <th>1</th>\n",
       "      <td>013007</td>\n",
       "      <td>1986-10-31</td>\n",
       "      <td>OPTIMUM MANUFACTURING  -CL A</td>\n",
       "      <td>1986.0</td>\n",
       "      <td>10.0</td>\n",
       "      <td>2.115</td>\n",
       "      <td>0.240</td>\n",
       "      <td>0.418</td>\n",
       "      <td>0.511</td>\n",
       "      <td>0.968</td>\n",
       "      <td>...</td>\n",
       "      <td>NaN</td>\n",
       "      <td>3.0</td>\n",
       "      <td>10.0</td>\n",
       "      <td>OMFGA</td>\n",
       "      <td>3990.0</td>\n",
       "      <td>NaN</td>\n",
       "      <td>1981.546875</td>\n",
       "      <td>1981.546875</td>\n",
       "      <td>0.000211</td>\n",
       "      <td>3990.0</td>\n",
       "    </tr>\n",
       "    <tr>\n",
       "      <th>2</th>\n",
       "      <td>NaN</td>\n",
       "      <td>NaT</td>\n",
       "      <td>NaN</td>\n",
       "      <td>NaN</td>\n",
       "      <td>NaN</td>\n",
       "      <td>NaN</td>\n",
       "      <td>NaN</td>\n",
       "      <td>NaN</td>\n",
       "      <td>NaN</td>\n",
       "      <td>NaN</td>\n",
       "      <td>...</td>\n",
       "      <td>6033.12500</td>\n",
       "      <td>3.0</td>\n",
       "      <td>11.0</td>\n",
       "      <td>GFGC</td>\n",
       "      <td>4920.0</td>\n",
       "      <td>NaN</td>\n",
       "      <td>NaN</td>\n",
       "      <td>NaN</td>\n",
       "      <td>NaN</td>\n",
       "      <td>4920.0</td>\n",
       "    </tr>\n",
       "    <tr>\n",
       "      <th>3</th>\n",
       "      <td>012994</td>\n",
       "      <td>1986-06-30</td>\n",
       "      <td>GAS NATURAL INC</td>\n",
       "      <td>1986.0</td>\n",
       "      <td>6.0</td>\n",
       "      <td>12.242</td>\n",
       "      <td>0.551</td>\n",
       "      <td>5.432</td>\n",
       "      <td>19.565</td>\n",
       "      <td>0.343</td>\n",
       "      <td>...</td>\n",
       "      <td>5822.12500</td>\n",
       "      <td>3.0</td>\n",
       "      <td>11.0</td>\n",
       "      <td>GFGC</td>\n",
       "      <td>4920.0</td>\n",
       "      <td>5822.125</td>\n",
       "      <td>6937.000000</td>\n",
       "      <td>6937.000000</td>\n",
       "      <td>0.001014</td>\n",
       "      <td>4920.0</td>\n",
       "    </tr>\n",
       "    <tr>\n",
       "      <th>4</th>\n",
       "      <td>012994</td>\n",
       "      <td>1987-06-30</td>\n",
       "      <td>GAS NATURAL INC</td>\n",
       "      <td>1987.0</td>\n",
       "      <td>6.0</td>\n",
       "      <td>11.771</td>\n",
       "      <td>0.513</td>\n",
       "      <td>5.369</td>\n",
       "      <td>15.538</td>\n",
       "      <td>0.377</td>\n",
       "      <td>...</td>\n",
       "      <td>6200.00000</td>\n",
       "      <td>3.0</td>\n",
       "      <td>11.0</td>\n",
       "      <td>GFGC</td>\n",
       "      <td>4920.0</td>\n",
       "      <td>6200.000</td>\n",
       "      <td>5828.000000</td>\n",
       "      <td>5828.000000</td>\n",
       "      <td>0.001208</td>\n",
       "      <td>4924.0</td>\n",
       "    </tr>\n",
       "  </tbody>\n",
       "</table>\n",
       "<p>5 rows × 48 columns</p>\n",
       "</div>"
      ],
      "text/plain": [
       "    gvkey   datadate                          conm   fyear   fyr      at  \\\n",
       "0     NaN        NaT                           NaN     NaN   NaN     NaN   \n",
       "1  013007 1986-10-31  OPTIMUM MANUFACTURING  -CL A  1986.0  10.0   2.115   \n",
       "2     NaN        NaT                           NaN     NaN   NaN     NaN   \n",
       "3  012994 1986-06-30               GAS NATURAL INC  1986.0   6.0  12.242   \n",
       "4  012994 1987-06-30               GAS NATURAL INC  1987.0   6.0  11.771   \n",
       "\n",
       "    capx    ceq    cogs    dlc  ...       mejune  exchcd  shrcd  ticker  \\\n",
       "0    NaN    NaN     NaN    NaN  ...  11734.59375     3.0   10.0   OMFGA   \n",
       "1  0.240  0.418   0.511  0.968  ...          NaN     3.0   10.0   OMFGA   \n",
       "2    NaN    NaN     NaN    NaN  ...   6033.12500     3.0   11.0    GFGC   \n",
       "3  0.551  5.432  19.565  0.343  ...   5822.12500     3.0   11.0    GFGC   \n",
       "4  0.513  5.369  15.538  0.377  ...   6200.00000     3.0   11.0    GFGC   \n",
       "\n",
       "    siccd        me        medec    mesum_dec      beme  sich_filled  \n",
       "0  3990.0       NaN          NaN          NaN       NaN       3990.0  \n",
       "1  3990.0       NaN  1981.546875  1981.546875  0.000211       3990.0  \n",
       "2  4920.0       NaN          NaN          NaN       NaN       4920.0  \n",
       "3  4920.0  5822.125  6937.000000  6937.000000  0.001014       4920.0  \n",
       "4  4920.0  6200.000  5828.000000  5828.000000  0.001208       4924.0  \n",
       "\n",
       "[5 rows x 48 columns]"
      ]
     },
     "execution_count": 41,
     "metadata": {},
     "output_type": "execute_result"
    }
   ],
   "source": [
    "#as what we do in portfolio_sorts according to instructor's code\n",
    "annualdata.rename(columns={'mesum_june': 'me', 'inv_gvkey': 'inv'}, inplace=True)\n",
    "annualdata.head()"
   ]
  },
  {
   "cell_type": "code",
   "execution_count": 42,
   "metadata": {},
   "outputs": [
    {
     "data": {
      "text/html": [
       "<div>\n",
       "<style scoped>\n",
       "    .dataframe tbody tr th:only-of-type {\n",
       "        vertical-align: middle;\n",
       "    }\n",
       "\n",
       "    .dataframe tbody tr th {\n",
       "        vertical-align: top;\n",
       "    }\n",
       "\n",
       "    .dataframe thead th {\n",
       "        text-align: right;\n",
       "    }\n",
       "</style>\n",
       "<table border=\"1\" class=\"dataframe\">\n",
       "  <thead>\n",
       "    <tr style=\"text-align: right;\">\n",
       "      <th></th>\n",
       "      <th>rankyear</th>\n",
       "      <th>permno</th>\n",
       "      <th>bemeportfolio</th>\n",
       "      <th>meportfolio</th>\n",
       "    </tr>\n",
       "  </thead>\n",
       "  <tbody>\n",
       "    <tr>\n",
       "      <th>0</th>\n",
       "      <td>1926.0</td>\n",
       "      <td>10006.0</td>\n",
       "      <td>beme2</td>\n",
       "      <td>me2</td>\n",
       "    </tr>\n",
       "    <tr>\n",
       "      <th>1</th>\n",
       "      <td>1926.0</td>\n",
       "      <td>10022.0</td>\n",
       "      <td>beme2</td>\n",
       "      <td>me1</td>\n",
       "    </tr>\n",
       "    <tr>\n",
       "      <th>2</th>\n",
       "      <td>1926.0</td>\n",
       "      <td>10030.0</td>\n",
       "      <td>beme1</td>\n",
       "      <td>me2</td>\n",
       "    </tr>\n",
       "    <tr>\n",
       "      <th>3</th>\n",
       "      <td>1926.0</td>\n",
       "      <td>10057.0</td>\n",
       "      <td>beme2</td>\n",
       "      <td>me1</td>\n",
       "    </tr>\n",
       "    <tr>\n",
       "      <th>4</th>\n",
       "      <td>1926.0</td>\n",
       "      <td>10073.0</td>\n",
       "      <td>beme3</td>\n",
       "      <td>me1</td>\n",
       "    </tr>\n",
       "  </tbody>\n",
       "</table>\n",
       "</div>"
      ],
      "text/plain": [
       "   rankyear   permno bemeportfolio meportfolio\n",
       "0    1926.0  10006.0         beme2         me2\n",
       "1    1926.0  10022.0         beme2         me1\n",
       "2    1926.0  10030.0         beme1         me2\n",
       "3    1926.0  10057.0         beme2         me1\n",
       "4    1926.0  10073.0         beme3         me1"
      ]
     },
     "execution_count": 42,
     "metadata": {},
     "output_type": "execute_result"
    }
   ],
   "source": [
    "beme.head()"
   ]
  },
  {
   "cell_type": "code",
   "execution_count": 43,
   "metadata": {},
   "outputs": [
    {
     "data": {
      "text/html": [
       "<div>\n",
       "<style scoped>\n",
       "    .dataframe tbody tr th:only-of-type {\n",
       "        vertical-align: middle;\n",
       "    }\n",
       "\n",
       "    .dataframe tbody tr th {\n",
       "        vertical-align: top;\n",
       "    }\n",
       "\n",
       "    .dataframe thead th {\n",
       "        text-align: right;\n",
       "    }\n",
       "</style>\n",
       "<table border=\"1\" class=\"dataframe\">\n",
       "  <thead>\n",
       "    <tr style=\"text-align: right;\">\n",
       "      <th></th>\n",
       "      <th>rankyear</th>\n",
       "      <th>permno</th>\n",
       "      <th>opbeportfolio</th>\n",
       "      <th>meportfolio</th>\n",
       "    </tr>\n",
       "  </thead>\n",
       "  <tbody>\n",
       "    <tr>\n",
       "      <th>0</th>\n",
       "      <td>1951.0</td>\n",
       "      <td>10006.0</td>\n",
       "      <td>opbe3</td>\n",
       "      <td>me1</td>\n",
       "    </tr>\n",
       "    <tr>\n",
       "      <th>1</th>\n",
       "      <td>1951.0</td>\n",
       "      <td>10102.0</td>\n",
       "      <td>opbe3</td>\n",
       "      <td>me2</td>\n",
       "    </tr>\n",
       "    <tr>\n",
       "      <th>2</th>\n",
       "      <td>1951.0</td>\n",
       "      <td>10153.0</td>\n",
       "      <td>opbe2</td>\n",
       "      <td>me2</td>\n",
       "    </tr>\n",
       "    <tr>\n",
       "      <th>3</th>\n",
       "      <td>1951.0</td>\n",
       "      <td>10161.0</td>\n",
       "      <td>opbe1</td>\n",
       "      <td>me2</td>\n",
       "    </tr>\n",
       "    <tr>\n",
       "      <th>4</th>\n",
       "      <td>1951.0</td>\n",
       "      <td>10188.0</td>\n",
       "      <td>opbe3</td>\n",
       "      <td>me1</td>\n",
       "    </tr>\n",
       "  </tbody>\n",
       "</table>\n",
       "</div>"
      ],
      "text/plain": [
       "   rankyear   permno opbeportfolio meportfolio\n",
       "0    1951.0  10006.0         opbe3         me1\n",
       "1    1951.0  10102.0         opbe3         me2\n",
       "2    1951.0  10153.0         opbe2         me2\n",
       "3    1951.0  10161.0         opbe1         me2\n",
       "4    1951.0  10188.0         opbe3         me1"
      ]
     },
     "execution_count": 43,
     "metadata": {},
     "output_type": "execute_result"
    }
   ],
   "source": [
    "opbe.head()"
   ]
  },
  {
   "cell_type": "code",
   "execution_count": 44,
   "metadata": {},
   "outputs": [
    {
     "data": {
      "text/html": [
       "<div>\n",
       "<style scoped>\n",
       "    .dataframe tbody tr th:only-of-type {\n",
       "        vertical-align: middle;\n",
       "    }\n",
       "\n",
       "    .dataframe tbody tr th {\n",
       "        vertical-align: top;\n",
       "    }\n",
       "\n",
       "    .dataframe thead th {\n",
       "        text-align: right;\n",
       "    }\n",
       "</style>\n",
       "<table border=\"1\" class=\"dataframe\">\n",
       "  <thead>\n",
       "    <tr style=\"text-align: right;\">\n",
       "      <th></th>\n",
       "      <th>rankyear</th>\n",
       "      <th>permno</th>\n",
       "      <th>invportfolio</th>\n",
       "      <th>meportfolio</th>\n",
       "    </tr>\n",
       "  </thead>\n",
       "  <tbody>\n",
       "    <tr>\n",
       "      <th>0</th>\n",
       "      <td>1952.0</td>\n",
       "      <td>10006.0</td>\n",
       "      <td>inv1</td>\n",
       "      <td>me1</td>\n",
       "    </tr>\n",
       "    <tr>\n",
       "      <th>1</th>\n",
       "      <td>1952.0</td>\n",
       "      <td>10102.0</td>\n",
       "      <td>inv3</td>\n",
       "      <td>me2</td>\n",
       "    </tr>\n",
       "    <tr>\n",
       "      <th>2</th>\n",
       "      <td>1952.0</td>\n",
       "      <td>10153.0</td>\n",
       "      <td>inv3</td>\n",
       "      <td>me2</td>\n",
       "    </tr>\n",
       "    <tr>\n",
       "      <th>3</th>\n",
       "      <td>1952.0</td>\n",
       "      <td>10161.0</td>\n",
       "      <td>inv2</td>\n",
       "      <td>me2</td>\n",
       "    </tr>\n",
       "    <tr>\n",
       "      <th>4</th>\n",
       "      <td>1952.0</td>\n",
       "      <td>10188.0</td>\n",
       "      <td>inv3</td>\n",
       "      <td>me1</td>\n",
       "    </tr>\n",
       "  </tbody>\n",
       "</table>\n",
       "</div>"
      ],
      "text/plain": [
       "   rankyear   permno invportfolio meportfolio\n",
       "0    1952.0  10006.0         inv1         me1\n",
       "1    1952.0  10102.0         inv3         me2\n",
       "2    1952.0  10153.0         inv3         me2\n",
       "3    1952.0  10161.0         inv2         me2\n",
       "4    1952.0  10188.0         inv3         me1"
      ]
     },
     "execution_count": 44,
     "metadata": {},
     "output_type": "execute_result"
    }
   ],
   "source": [
    "inv.head()"
   ]
  },
  {
   "cell_type": "code",
   "execution_count": 64,
   "metadata": {},
   "outputs": [],
   "source": [
    "#contruct useful dataframe to calculate the spread\n",
    "q4=annualdata.merge(beme,left_on=['permno','rankyear'],right_on=['permno','rankyear'])\n",
    "new_q4=pd.DataFrame(q4.groupby(['rankyear', 'bemeportfolio'])['be'].sum())\n",
    "new_q4['me']=(q4.groupby(['rankyear', 'bemeportfolio'])['mesum_dec'].sum())\n",
    "new_q4['beme']=np.log(new_q4.be/new_q4.me)\n",
    "#we need the previous index \"rankyear\" to be transformed into a column\n",
    "new_q4.reset_index(inplace=True)"
   ]
  },
  {
   "cell_type": "code",
   "execution_count": 65,
   "metadata": {},
   "outputs": [],
   "source": [
    "#Calculate a time series of the value spread\n",
    "year=new_q4.rankyear.unique()\n",
    "spread=[]\n",
    "for i in year:\n",
    "    top=new_q4.iloc[new_q4.loc[(new_q4.rankyear==i)& (new_q4.bemeportfolio==\"beme3\")].index[0]]['beme']\n",
    "    bottom=new_q4.iloc[new_q4.loc[(new_q4.rankyear==i)& (new_q4.bemeportfolio==\"beme1\")].index[0]]['beme']\n",
    "    spread.append(top-bottom)"
   ]
  },
  {
   "cell_type": "code",
   "execution_count": 66,
   "metadata": {},
   "outputs": [
    {
     "data": {
      "image/png": "[encoded data removed]",
      "text/plain": [
       "<Figure size 432x288 with 1 Axes>"
      ]
     },
     "metadata": {
      "needs_background": "light"
     },
     "output_type": "display_data"
    }
   ],
   "source": [
    "#Report a time series plot of the value spread.\n",
    "import matplotlib.pyplot as plt\n",
    "plt.figure()\n",
    "plt.plot(year,spread)\n",
    "plt.xlabel(\"year\")\n",
    "plt.ylabel(\"value spread\")\n",
    "plt.title(\"value spread time series report\")\n",
    "plt.show()"
   ]
  },
  {
   "cell_type": "markdown",
   "metadata": {},
   "source": [
    "### Answer: Generally, my guess for the strategies is that they are performing well in the past 10 years. We can see from the figure. From 2010 to 2020, the value spread was growing with a positive drift although bearing with some fluctuations (from about 1.4 to 1.9). According to Cohen, Polk and Vuolteenaho (2003), when the value spread is higher, the expected return on value-minus-growth strategies is typically higher. So They should be doing well."
   ]
  },
  {
   "cell_type": "markdown",
   "metadata": {},
   "source": [
    "**Question 5 (30 pts)**\n",
    "\n",
    "Analogous to the value spread, calculate the profitability spread and the investment spread. Report a plot with the 3 time series plots. "
   ]
  },
  {
   "cell_type": "code",
   "execution_count": 70,
   "metadata": {},
   "outputs": [],
   "source": [
    "#opbe:\n",
    "#contruct useful dataframe to calculate the spread\n",
    "q4=annualdata.merge(beme,left_on=['permno','rankyear'],right_on=['permno','rankyear'])\n",
    "q4=q4.merge(opbe,left_on=['permno','rankyear','meportfolio'],right_on=['permno','rankyear','meportfolio'])\n",
    "q4=q4.merge(inv,left_on=['permno','rankyear','meportfolio'],right_on=['permno','rankyear','meportfolio'])\n",
    "new_q4=pd.DataFrame(q4.groupby(['rankyear', 'opbeportfolio'])['op'].sum())\n",
    "new_q4['be']=(q4.groupby(['rankyear', 'opbeportfolio'])['be'].sum())\n",
    "new_q4['opbe']=np.log(new_q4.op/new_q4.be)\n",
    "#we need the previous index \"rankyear\" to be transformed into a column\n",
    "new_q4.reset_index(inplace=True)\n",
    "#Calculate a time series of the value spread\n",
    "year=new_q4.rankyear.unique()\n",
    "opbe_spread=[]\n",
    "for i in year:\n",
    "    top=new_q4.iloc[new_q4.loc[(new_q4.rankyear==i)& (new_q4.opbeportfolio==\"opbe3\")].index[0]]['opbe']\n",
    "    bottom=new_q4.iloc[new_q4.loc[(new_q4.rankyear==i)& (new_q4.opbeportfolio==\"opbe1\")].index[0]]['opbe']\n",
    "    opbe_spread.append(top-bottom)"
   ]
  },
  {
   "cell_type": "code",
   "execution_count": 79,
   "metadata": {},
   "outputs": [
    {
     "name": "stderr",
     "output_type": "stream",
     "text": [
      "C:\\APP\\Anaconda\\lib\\site-packages\\ipykernel_launcher.py:16: RuntimeWarning: invalid value encountered in double_scalars\n",
      "  app.launch_new_instance()\n"
     ]
    }
   ],
   "source": [
    "#inv\n",
    "q4inv=annualdata.merge(beme,left_on=['permno','rankyear'],right_on=['permno','rankyear'])\n",
    "q4inv=q4inv.merge(opbe,left_on=['permno','rankyear','meportfolio'],right_on=['permno','rankyear','meportfolio'])\n",
    "q4inv=q4inv.merge(inv,left_on=['permno','rankyear','meportfolio'],right_on=['permno','rankyear','meportfolio'])\n",
    "q4inv['lag_at'] = q4inv.groupby('permno').at.shift(1)\n",
    "q4inv2=pd.DataFrame(q4inv.groupby(['rankyear', 'invportfolio'])['at'].sum())\n",
    "q4inv2['lagat']=(q4inv.groupby(['rankyear', 'invportfolio'])['lag_at'].sum())\n",
    "q4inv2['at'].astype('float64')\n",
    "q4inv2['inv']=(q4inv2['at']-q4inv2.lagat)/q4inv2.lagat\n",
    "q4inv2.reset_index(inplace=True)\n",
    "\n",
    "inv_spread=[]\n",
    "for i in year:\n",
    "    top=q4inv2.iloc[q4inv2.loc[(q4inv2.rankyear==i)& (q4inv2.invportfolio==\"inv3\")].index[0]]['inv']\n",
    "    bottom=q4inv2.iloc[q4inv2.loc[(q4inv2.rankyear==i)& (q4inv2.invportfolio==\"inv1\")].index[0]]['inv']\n",
    "    inv_spread.append(top-bottom)"
   ]
  },
  {
   "cell_type": "code",
   "execution_count": 80,
   "metadata": {},
   "outputs": [
    {
     "data": {
      "image/png": "[encoded data removed]",
      "text/plain": [
       "<Figure size 432x288 with 1 Axes>"
      ]
     },
     "metadata": {
      "needs_background": "light"
     },
     "output_type": "display_data"
    }
   ],
   "source": [
    "plt.figure()\n",
    "plt.plot(year,spread)\n",
    "plt.plot(year,opbe_spread)\n",
    "plt.plot(year,inv_spread)\n",
    "plt.xlabel('year')\n",
    "plt.ylabel('spreads')\n",
    "L=['BEME','OPBE','INV']\n",
    "plt.legend(L)\n",
    "plt.show()"
   ]
  },
  {
   "cell_type": "code",
   "execution_count": 81,
   "metadata": {},
   "outputs": [
    {
     "data": {
      "image/png": "[encoded data removed]",
      "text/plain": [
       "<Figure size 432x288 with 1 Axes>"
      ]
     },
     "metadata": {
      "needs_background": "light"
     },
     "output_type": "display_data"
    }
   ],
   "source": [
    "plt.figure()\n",
    "plt.plot(year,spread)\n",
    "plt.xlabel(\"year\")\n",
    "plt.ylabel(\"value spread\")\n",
    "plt.title(\"value spread time series report\")\n",
    "plt.show()"
   ]
  }
 ],
 "metadata": {
  "kernelspec": {
   "display_name": "Python 3",
   "language": "python",
   "name": "python3"
  },
  "language_info": {
   "codemirror_mode": {
    "name": "ipython",
    "version": 3
   },
   "file_extension": ".py",
   "mimetype": "text/x-python",
   "name": "python",
   "nbconvert_exporter": "python",
   "pygments_lexer": "ipython3",
   "version": "3.7.3"
  },
  "toc": {
   "base_numbering": 1,
   "nav_menu": {},
   "number_sections": true,
   "sideBar": true,
   "skip_h1_title": true,
   "title_cell": "Table of Contents",
   "title_sidebar": "Contents",
   "toc_cell": false,
   "toc_position": {},
   "toc_section_display": true,
   "toc_window_display": true
  }
 },
 "nbformat": 4,
 "nbformat_minor": 2
}
